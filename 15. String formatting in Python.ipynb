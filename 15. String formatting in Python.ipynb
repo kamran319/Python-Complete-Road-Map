{
 "cells": [
  {
   "cell_type": "code",
   "execution_count": 1,
   "id": "b1357a2c",
   "metadata": {},
   "outputs": [
    {
     "name": "stdout",
     "output_type": "stream",
     "text": [
      "hello world\n"
     ]
    }
   ],
   "source": [
    "print(\"hello world\")"
   ]
  },
  {
   "cell_type": "code",
   "execution_count": 2,
   "id": "dda96301",
   "metadata": {},
   "outputs": [],
   "source": [
    "str = \"Hello Everyone\""
   ]
  },
  {
   "cell_type": "code",
   "execution_count": 3,
   "id": "61513db8",
   "metadata": {},
   "outputs": [
    {
     "name": "stdout",
     "output_type": "stream",
     "text": [
      "Hello Everyone\n"
     ]
    }
   ],
   "source": [
    "print(str)"
   ]
  },
  {
   "cell_type": "code",
   "execution_count": 4,
   "id": "abbd96c3",
   "metadata": {},
   "outputs": [],
   "source": [
    "def greeting(name):\n",
    "    return \"Hello {} welcome to the ML\".format(name)"
   ]
  },
  {
   "cell_type": "code",
   "execution_count": 5,
   "id": "b25cb69e",
   "metadata": {},
   "outputs": [
    {
     "data": {
      "text/plain": [
       "'Hello Kamran welcome to the ML'"
      ]
     },
     "execution_count": 5,
     "metadata": {},
     "output_type": "execute_result"
    }
   ],
   "source": [
    "greeting('Kamran')"
   ]
  },
  {
   "cell_type": "code",
   "execution_count": 6,
   "id": "59785e93",
   "metadata": {},
   "outputs": [],
   "source": [
    "def welcome_mail(mail_id,username):\n",
    "    return(\"Hello the user mail ID is {} and user name is {}\".format(mail_id,username))"
   ]
  },
  {
   "cell_type": "code",
   "execution_count": 7,
   "id": "e1e7f6ce",
   "metadata": {},
   "outputs": [
    {
     "data": {
      "text/plain": [
       "'Hello the user mail ID is kamranme076@gmail.com and user name is Kamran'"
      ]
     },
     "execution_count": 7,
     "metadata": {},
     "output_type": "execute_result"
    }
   ],
   "source": [
    "welcome_mail('kamranme076@gmail.com', 'Kamran')"
   ]
  },
  {
   "cell_type": "code",
   "execution_count": null,
   "id": "ac001efb",
   "metadata": {},
   "outputs": [],
   "source": []
  }
 ],
 "metadata": {
  "kernelspec": {
   "display_name": "Python 3",
   "language": "python",
   "name": "python3"
  },
  "language_info": {
   "codemirror_mode": {
    "name": "ipython",
    "version": 3
   },
   "file_extension": ".py",
   "mimetype": "text/x-python",
   "name": "python",
   "nbconvert_exporter": "python",
   "pygments_lexer": "ipython3",
   "version": "3.8.8"
  }
 },
 "nbformat": 4,
 "nbformat_minor": 5
}
