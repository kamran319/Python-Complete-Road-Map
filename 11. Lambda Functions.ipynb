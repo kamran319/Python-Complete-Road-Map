{
 "cells": [
  {
   "cell_type": "markdown",
   "id": "a5c48214",
   "metadata": {},
   "source": [
    "# Lambda Function\n",
    "- Ananymous function \n",
    "- A function with no name"
   ]
  },
  {
   "cell_type": "code",
   "execution_count": 1,
   "id": "a6063543",
   "metadata": {},
   "outputs": [
    {
     "data": {
      "text/plain": [
       "9"
      ]
     },
     "execution_count": 1,
     "metadata": {},
     "output_type": "execute_result"
    }
   ],
   "source": [
    "def add(a,b):\n",
    "    return(a+b)\n",
    "\n",
    "add(4,5)"
   ]
  },
  {
   "cell_type": "code",
   "execution_count": 2,
   "id": "73a18517",
   "metadata": {},
   "outputs": [],
   "source": [
    "addition=lambda a,b: a+b"
   ]
  },
  {
   "cell_type": "code",
   "execution_count": 3,
   "id": "c7094a25",
   "metadata": {},
   "outputs": [
    {
     "data": {
      "text/plain": [
       "15"
      ]
     },
     "execution_count": 3,
     "metadata": {},
     "output_type": "execute_result"
    }
   ],
   "source": [
    "addition(7,8)"
   ]
  },
  {
   "cell_type": "code",
   "execution_count": 4,
   "id": "4a5598e5",
   "metadata": {},
   "outputs": [],
   "source": [
    "def even(num):\n",
    "    if num%2==0:\n",
    "        return True"
   ]
  },
  {
   "cell_type": "code",
   "execution_count": 5,
   "id": "e94e00b4",
   "metadata": {},
   "outputs": [
    {
     "data": {
      "text/plain": [
       "True"
      ]
     },
     "execution_count": 5,
     "metadata": {},
     "output_type": "execute_result"
    }
   ],
   "source": [
    "even(22)"
   ]
  },
  {
   "cell_type": "code",
   "execution_count": 6,
   "id": "feda4b87",
   "metadata": {},
   "outputs": [],
   "source": [
    "Evn=lambda a:a%2==0"
   ]
  },
  {
   "cell_type": "code",
   "execution_count": 7,
   "id": "066bf845",
   "metadata": {},
   "outputs": [
    {
     "data": {
      "text/plain": [
       "False"
      ]
     },
     "execution_count": 7,
     "metadata": {},
     "output_type": "execute_result"
    }
   ],
   "source": [
    "Evn(23)"
   ]
  },
  {
   "cell_type": "code",
   "execution_count": 6,
   "id": "9b4a852b",
   "metadata": {},
   "outputs": [],
   "source": [
    "odd = lambda a:a%2!=0"
   ]
  },
  {
   "cell_type": "code",
   "execution_count": 7,
   "id": "f40dcef3",
   "metadata": {},
   "outputs": [
    {
     "data": {
      "text/plain": [
       "False"
      ]
     },
     "execution_count": 7,
     "metadata": {},
     "output_type": "execute_result"
    }
   ],
   "source": [
    "odd(22)"
   ]
  },
  {
   "cell_type": "code",
   "execution_count": null,
   "id": "fc13dc59",
   "metadata": {},
   "outputs": [],
   "source": []
  }
 ],
 "metadata": {
  "kernelspec": {
   "display_name": "Python 3",
   "language": "python",
   "name": "python3"
  },
  "language_info": {
   "codemirror_mode": {
    "name": "ipython",
    "version": 3
   },
   "file_extension": ".py",
   "mimetype": "text/x-python",
   "name": "python",
   "nbconvert_exporter": "python",
   "pygments_lexer": "ipython3",
   "version": "3.8.8"
  }
 },
 "nbformat": 4,
 "nbformat_minor": 5
}
