{
 "cells": [
  {
   "cell_type": "markdown",
   "id": "de0e24f9",
   "metadata": {},
   "source": [
    "## Set is an unordered collection of data type that is iterable, mutable, and has no duplicate elements"
   ]
  },
  {
   "cell_type": "code",
   "execution_count": 1,
   "id": "5230c373",
   "metadata": {},
   "outputs": [
    {
     "name": "stdout",
     "output_type": "stream",
     "text": [
      "set()\n",
      "<class 'set'>\n"
     ]
    }
   ],
   "source": [
    "set_data = set()\n",
    "print(set_data)\n",
    "print(type(set_data))"
   ]
  },
  {
   "cell_type": "code",
   "execution_count": 2,
   "id": "9411e09a",
   "metadata": {},
   "outputs": [],
   "source": [
    "set_var = {'kamran','naazo', 'Mohammed',4,2}\n",
    "set_car_1 = {'kamran','naazo', 'Mohammed',4,2,\"Ammu\"}"
   ]
  },
  {
   "cell_type": "code",
   "execution_count": 3,
   "id": "749ec51a",
   "metadata": {},
   "outputs": [
    {
     "data": {
      "text/plain": [
       "{'Ammu'}"
      ]
     },
     "execution_count": 3,
     "metadata": {},
     "output_type": "execute_result"
    }
   ],
   "source": [
    "set_car_1.difference(set_var)"
   ]
  },
  {
   "cell_type": "code",
   "execution_count": 4,
   "id": "7b806c3c",
   "metadata": {},
   "outputs": [],
   "source": [
    "set_car_1.difference_update(set_var)"
   ]
  },
  {
   "cell_type": "code",
   "execution_count": 5,
   "id": "262c396a",
   "metadata": {},
   "outputs": [
    {
     "data": {
      "text/plain": [
       "{'Ammu'}"
      ]
     },
     "execution_count": 5,
     "metadata": {},
     "output_type": "execute_result"
    }
   ],
   "source": [
    "set_car_1"
   ]
  },
  {
   "cell_type": "code",
   "execution_count": 6,
   "id": "18ca1f88",
   "metadata": {},
   "outputs": [],
   "source": [
    "set_var = {'kamran','naazo', 'Mohammed',4,2,\"Null\"}\n",
    "set_car_1 = {'kamran','naazo', 'Mohammed',4,2,\"Ammu\",\"Null\"}"
   ]
  },
  {
   "cell_type": "code",
   "execution_count": 7,
   "id": "7373904f",
   "metadata": {},
   "outputs": [
    {
     "data": {
      "text/plain": [
       "{2, 4, 'Ammu', 'Mohammed', 'Null', 'kamran', 'naazo'}"
      ]
     },
     "execution_count": 7,
     "metadata": {},
     "output_type": "execute_result"
    }
   ],
   "source": [
    "set_car_1.intersection(set_var)\n",
    "set_car_1"
   ]
  },
  {
   "cell_type": "code",
   "execution_count": 8,
   "id": "1903bce2",
   "metadata": {},
   "outputs": [],
   "source": [
    "set_car_1.intersection_update(set_var)"
   ]
  },
  {
   "cell_type": "code",
   "execution_count": 9,
   "id": "b94040f6",
   "metadata": {},
   "outputs": [
    {
     "data": {
      "text/plain": [
       "{2, 4, 'Mohammed', 'Null', 'kamran', 'naazo'}"
      ]
     },
     "execution_count": 9,
     "metadata": {},
     "output_type": "execute_result"
    }
   ],
   "source": [
    "set_car_1"
   ]
  },
  {
   "cell_type": "code",
   "execution_count": 10,
   "id": "179f70d9",
   "metadata": {},
   "outputs": [
    {
     "data": {
      "text/plain": [
       "False"
      ]
     },
     "execution_count": 10,
     "metadata": {},
     "output_type": "execute_result"
    }
   ],
   "source": [
    "set_car_1.isdisjoint(set_var)"
   ]
  },
  {
   "cell_type": "code",
   "execution_count": 11,
   "id": "9da0577b",
   "metadata": {},
   "outputs": [
    {
     "data": {
      "text/plain": [
       "{2, 4, 'Mohammed', 'Null', 'kamran', 'naazo'}"
      ]
     },
     "execution_count": 11,
     "metadata": {},
     "output_type": "execute_result"
    }
   ],
   "source": [
    "set_var"
   ]
  },
  {
   "cell_type": "code",
   "execution_count": 12,
   "id": "d30a1e76",
   "metadata": {},
   "outputs": [],
   "source": [
    "set_var.add('Amyra')"
   ]
  },
  {
   "cell_type": "code",
   "execution_count": 13,
   "id": "63d2799e",
   "metadata": {},
   "outputs": [
    {
     "data": {
      "text/plain": [
       "{2, 4, 'Amyra', 'Mohammed', 'Null', 'kamran', 'naazo'}"
      ]
     },
     "execution_count": 13,
     "metadata": {},
     "output_type": "execute_result"
    }
   ],
   "source": [
    "set_var"
   ]
  },
  {
   "cell_type": "markdown",
   "id": "148e32a2",
   "metadata": {},
   "source": [
    "# Dictionary\n",
    "\n",
    "## It is an key value pair, which is unorderd, changeable, and indexed"
   ]
  },
  {
   "cell_type": "code",
   "execution_count": 14,
   "id": "325b72c0",
   "metadata": {},
   "outputs": [],
   "source": [
    "dict ={}"
   ]
  },
  {
   "cell_type": "code",
   "execution_count": 15,
   "id": "2747d018",
   "metadata": {},
   "outputs": [
    {
     "data": {
      "text/plain": [
       "dict"
      ]
     },
     "execution_count": 15,
     "metadata": {},
     "output_type": "execute_result"
    }
   ],
   "source": [
    "type(dict)"
   ]
  },
  {
   "cell_type": "code",
   "execution_count": 16,
   "id": "33f649d0",
   "metadata": {},
   "outputs": [],
   "source": [
    "dict = {1,2 ,3,4}"
   ]
  },
  {
   "cell_type": "code",
   "execution_count": 17,
   "id": "93f137b0",
   "metadata": {},
   "outputs": [
    {
     "data": {
      "text/plain": [
       "set"
      ]
     },
     "execution_count": 17,
     "metadata": {},
     "output_type": "execute_result"
    }
   ],
   "source": [
    "type(dict)"
   ]
  },
  {
   "cell_type": "code",
   "execution_count": 18,
   "id": "f700dd70",
   "metadata": {},
   "outputs": [],
   "source": [
    "dict = {\"Car\":[\"Audi\",\"jaguar\",\"Hyundai\",\"Nios\"], \"Transmission\": [\"Automatic\",\"Manual\"]}"
   ]
  },
  {
   "cell_type": "code",
   "execution_count": 20,
   "id": "9ec0eb0b",
   "metadata": {},
   "outputs": [
    {
     "data": {
      "text/plain": [
       "dict"
      ]
     },
     "execution_count": 20,
     "metadata": {},
     "output_type": "execute_result"
    }
   ],
   "source": [
    "type(dict)"
   ]
  },
  {
   "cell_type": "code",
   "execution_count": 21,
   "id": "c38299f2",
   "metadata": {},
   "outputs": [
    {
     "data": {
      "text/plain": [
       "dict_keys(['Car', 'Transmission'])"
      ]
     },
     "execution_count": 21,
     "metadata": {},
     "output_type": "execute_result"
    }
   ],
   "source": [
    "dict.keys() # It will print Keys"
   ]
  },
  {
   "cell_type": "code",
   "execution_count": 22,
   "id": "bdf93cae",
   "metadata": {},
   "outputs": [
    {
     "data": {
      "text/plain": [
       "dict_values([['Audi', 'jaguar', 'Hyundai', 'Nios'], ['Automatic', 'Manual']])"
      ]
     },
     "execution_count": 22,
     "metadata": {},
     "output_type": "execute_result"
    }
   ],
   "source": [
    "dict.values() # It will print Values"
   ]
  },
  {
   "cell_type": "code",
   "execution_count": 25,
   "id": "a0afdbc9",
   "metadata": {},
   "outputs": [
    {
     "data": {
      "text/plain": [
       "{'c': None, 'a': None, 'r': None}"
      ]
     },
     "execution_count": 25,
     "metadata": {},
     "output_type": "execute_result"
    }
   ],
   "source": [
    "dict.fromkeys('car')"
   ]
  },
  {
   "cell_type": "code",
   "execution_count": 41,
   "id": "c2c5f51a",
   "metadata": {},
   "outputs": [
    {
     "name": "stdout",
     "output_type": "stream",
     "text": [
      "Car\n",
      "Transmission\n"
     ]
    }
   ],
   "source": [
    "for i in dict:\n",
    "    print(i)"
   ]
  },
  {
   "cell_type": "code",
   "execution_count": 42,
   "id": "0e20b502",
   "metadata": {},
   "outputs": [
    {
     "name": "stdout",
     "output_type": "stream",
     "text": [
      "['Audi', 'jaguar', 'Hyundai', 'Nios']\n",
      "['Automatic', 'Manual']\n"
     ]
    }
   ],
   "source": [
    "for i in dict.values():\n",
    "    print(i)"
   ]
  },
  {
   "cell_type": "code",
   "execution_count": 54,
   "id": "0ebd3427",
   "metadata": {},
   "outputs": [
    {
     "name": "stdout",
     "output_type": "stream",
     "text": [
      "jaguar\n",
      "Manual\n"
     ]
    }
   ],
   "source": [
    "for i in dict.items():\n",
    "    print(i[1][1])"
   ]
  },
  {
   "cell_type": "code",
   "execution_count": 49,
   "id": "401d4c46",
   "metadata": {},
   "outputs": [
    {
     "data": {
      "text/plain": [
       "{'Car': ['Audi', 'jaguar', 'Hyundai', 'Nios'],\n",
       " 'Transmission': ['Automatic', 'Manual']}"
      ]
     },
     "execution_count": 49,
     "metadata": {},
     "output_type": "execute_result"
    }
   ],
   "source": [
    "dict"
   ]
  },
  {
   "cell_type": "markdown",
   "id": "b2a51d25",
   "metadata": {},
   "source": [
    "# Tuple\n",
    "## Immutable , collection of elements"
   ]
  },
  {
   "cell_type": "code",
   "execution_count": 55,
   "id": "a2da3dde",
   "metadata": {},
   "outputs": [],
   "source": [
    "tup = (1,2,3,4,5)"
   ]
  },
  {
   "cell_type": "code",
   "execution_count": 56,
   "id": "df2928fa",
   "metadata": {},
   "outputs": [
    {
     "data": {
      "text/plain": [
       "tuple"
      ]
     },
     "execution_count": 56,
     "metadata": {},
     "output_type": "execute_result"
    }
   ],
   "source": [
    "type(tup)"
   ]
  },
  {
   "cell_type": "code",
   "execution_count": 57,
   "id": "017ac510",
   "metadata": {},
   "outputs": [
    {
     "data": {
      "text/plain": [
       "1"
      ]
     },
     "execution_count": 57,
     "metadata": {},
     "output_type": "execute_result"
    }
   ],
   "source": [
    "tup.count(2)"
   ]
  },
  {
   "cell_type": "code",
   "execution_count": 58,
   "id": "46d73745",
   "metadata": {},
   "outputs": [
    {
     "data": {
      "text/plain": [
       "0"
      ]
     },
     "execution_count": 58,
     "metadata": {},
     "output_type": "execute_result"
    }
   ],
   "source": [
    "tup.index(1)"
   ]
  },
  {
   "cell_type": "code",
   "execution_count": null,
   "id": "34beeddf",
   "metadata": {},
   "outputs": [],
   "source": []
  }
 ],
 "metadata": {
  "kernelspec": {
   "display_name": "Python 3",
   "language": "python",
   "name": "python3"
  },
  "language_info": {
   "codemirror_mode": {
    "name": "ipython",
    "version": 3
   },
   "file_extension": ".py",
   "mimetype": "text/x-python",
   "name": "python",
   "nbconvert_exporter": "python",
   "pygments_lexer": "ipython3",
   "version": "3.8.8"
  }
 },
 "nbformat": 4,
 "nbformat_minor": 5
}
