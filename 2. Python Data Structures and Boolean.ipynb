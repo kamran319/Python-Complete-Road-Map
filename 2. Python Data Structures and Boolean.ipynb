{
 "cells": [
  {
   "cell_type": "markdown",
   "id": "391a1a74",
   "metadata": {},
   "source": [
    "# Data Structure and Booleans\n",
    " - Boolean\n",
    " - Boolean and logical operators\n",
    " - List\n",
    " - Comparision Operators\n",
    " - List\n",
    " - Strings\n",
    " - tuple\n",
    " - Dictionary\n",
    " - Sets"
   ]
  },
  {
   "cell_type": "markdown",
   "id": "a389feea",
   "metadata": {},
   "source": [
    "# Boolean Variable\n",
    "\n",
    "## Boolean values are the two constant objects False, and True"
   ]
  },
  {
   "cell_type": "code",
   "execution_count": 1,
   "id": "6a383f39",
   "metadata": {},
   "outputs": [
    {
     "data": {
      "text/plain": [
       "False"
      ]
     },
     "execution_count": 1,
     "metadata": {},
     "output_type": "execute_result"
    }
   ],
   "source": [
    "bool()"
   ]
  },
  {
   "cell_type": "code",
   "execution_count": 2,
   "id": "f2ab790d",
   "metadata": {},
   "outputs": [
    {
     "data": {
      "text/plain": [
       "True"
      ]
     },
     "execution_count": 2,
     "metadata": {},
     "output_type": "execute_result"
    }
   ],
   "source": [
    "True"
   ]
  },
  {
   "cell_type": "code",
   "execution_count": 3,
   "id": "5113430a",
   "metadata": {},
   "outputs": [
    {
     "data": {
      "text/plain": [
       "False"
      ]
     },
     "execution_count": 3,
     "metadata": {},
     "output_type": "execute_result"
    }
   ],
   "source": [
    "False"
   ]
  },
  {
   "cell_type": "code",
   "execution_count": 4,
   "id": "4ed48b32",
   "metadata": {},
   "outputs": [
    {
     "data": {
      "text/plain": [
       "bool"
      ]
     },
     "execution_count": 4,
     "metadata": {},
     "output_type": "execute_result"
    }
   ],
   "source": [
    "type(True)"
   ]
  },
  {
   "cell_type": "code",
   "execution_count": 5,
   "id": "73b4cbdd",
   "metadata": {},
   "outputs": [
    {
     "data": {
      "text/plain": [
       "bool"
      ]
     },
     "execution_count": 5,
     "metadata": {},
     "output_type": "execute_result"
    }
   ],
   "source": [
    "type(False)"
   ]
  },
  {
   "cell_type": "code",
   "execution_count": 6,
   "id": "cf9bf2bb",
   "metadata": {},
   "outputs": [],
   "source": [
    "S = 'AMYRABeta'"
   ]
  },
  {
   "cell_type": "code",
   "execution_count": 7,
   "id": "10625e2b",
   "metadata": {},
   "outputs": [
    {
     "data": {
      "text/plain": [
       "'Amyrabeta'"
      ]
     },
     "execution_count": 7,
     "metadata": {},
     "output_type": "execute_result"
    }
   ],
   "source": [
    "S.capitalize() # in build functions in my S.tab will list all the in-biuld function"
   ]
  },
  {
   "cell_type": "code",
   "execution_count": 8,
   "id": "fe44bd7c",
   "metadata": {},
   "outputs": [
    {
     "data": {
      "text/plain": [
       "'amyrabeta'"
      ]
     },
     "execution_count": 8,
     "metadata": {},
     "output_type": "execute_result"
    }
   ],
   "source": [
    "S.casefold()"
   ]
  },
  {
   "cell_type": "code",
   "execution_count": 9,
   "id": "be7b164f",
   "metadata": {},
   "outputs": [
    {
     "data": {
      "text/plain": [
       "'AMYRABeta'"
      ]
     },
     "execution_count": 9,
     "metadata": {},
     "output_type": "execute_result"
    }
   ],
   "source": [
    "S.center(8)"
   ]
  },
  {
   "cell_type": "code",
   "execution_count": 10,
   "id": "e3ff40ad",
   "metadata": {},
   "outputs": [
    {
     "data": {
      "text/plain": [
       "True"
      ]
     },
     "execution_count": 10,
     "metadata": {},
     "output_type": "execute_result"
    }
   ],
   "source": [
    "S.isalnum()"
   ]
  },
  {
   "cell_type": "code",
   "execution_count": 11,
   "id": "2f2f53ef",
   "metadata": {},
   "outputs": [
    {
     "data": {
      "text/plain": [
       "True"
      ]
     },
     "execution_count": 11,
     "metadata": {},
     "output_type": "execute_result"
    }
   ],
   "source": [
    "S.isalpha()"
   ]
  },
  {
   "cell_type": "code",
   "execution_count": 12,
   "id": "7d0f8269",
   "metadata": {},
   "outputs": [
    {
     "name": "stdout",
     "output_type": "stream",
     "text": [
      "True\n",
      "True\n",
      "False\n"
     ]
    }
   ],
   "source": [
    "print(S.isalnum())\n",
    "print(S.startswith('A'))\n",
    "print(S.endswith('A'))"
   ]
  },
  {
   "cell_type": "code",
   "execution_count": 13,
   "id": "e63e91df",
   "metadata": {},
   "outputs": [
    {
     "data": {
      "text/plain": [
       "'amyrabETA'"
      ]
     },
     "execution_count": 13,
     "metadata": {},
     "output_type": "execute_result"
    }
   ],
   "source": [
    "S.swapcase()"
   ]
  },
  {
   "cell_type": "code",
   "execution_count": 14,
   "id": "475ac3bd",
   "metadata": {},
   "outputs": [
    {
     "name": "stdout",
     "output_type": "stream",
     "text": [
      "Anagram\n"
     ]
    }
   ],
   "source": [
    "def Anagram(S1,S2):\n",
    "    if sorted(S1) == sorted(S2):\n",
    "        print(\"Anagram\")\n",
    "        \n",
    "    else:\n",
    "        print(\"Not an Anagram\")\n",
    "\n",
    "S1 ='Madam'\n",
    "S2 =\"Madam\"        \n",
    "Anagram(S1,S2)\n"
   ]
  },
  {
   "cell_type": "markdown",
   "id": "54722ff2",
   "metadata": {},
   "source": [
    "## Boolean and Logical Opeartors"
   ]
  },
  {
   "cell_type": "code",
   "execution_count": 15,
   "id": "53d75c03",
   "metadata": {},
   "outputs": [
    {
     "data": {
      "text/plain": [
       "True"
      ]
     },
     "execution_count": 15,
     "metadata": {},
     "output_type": "execute_result"
    }
   ],
   "source": [
    "True and True"
   ]
  },
  {
   "cell_type": "code",
   "execution_count": 16,
   "id": "3b5a282a",
   "metadata": {},
   "outputs": [
    {
     "data": {
      "text/plain": [
       "False"
      ]
     },
     "execution_count": 16,
     "metadata": {},
     "output_type": "execute_result"
    }
   ],
   "source": [
    "False and False"
   ]
  },
  {
   "cell_type": "code",
   "execution_count": 17,
   "id": "69de78d0",
   "metadata": {},
   "outputs": [
    {
     "data": {
      "text/plain": [
       "False"
      ]
     },
     "execution_count": 17,
     "metadata": {},
     "output_type": "execute_result"
    }
   ],
   "source": [
    "True and False"
   ]
  },
  {
   "cell_type": "code",
   "execution_count": 18,
   "id": "33cbd663",
   "metadata": {},
   "outputs": [
    {
     "data": {
      "text/plain": [
       "False"
      ]
     },
     "execution_count": 18,
     "metadata": {},
     "output_type": "execute_result"
    }
   ],
   "source": [
    "False and True "
   ]
  },
  {
   "cell_type": "code",
   "execution_count": 19,
   "id": "ebc129f2",
   "metadata": {},
   "outputs": [
    {
     "data": {
      "text/plain": [
       "True"
      ]
     },
     "execution_count": 19,
     "metadata": {},
     "output_type": "execute_result"
    }
   ],
   "source": [
    "True or True"
   ]
  },
  {
   "cell_type": "code",
   "execution_count": 20,
   "id": "0f4f2ce1",
   "metadata": {},
   "outputs": [
    {
     "data": {
      "text/plain": [
       "True"
      ]
     },
     "execution_count": 20,
     "metadata": {},
     "output_type": "execute_result"
    }
   ],
   "source": [
    "True or False"
   ]
  },
  {
   "cell_type": "code",
   "execution_count": 21,
   "id": "68f9f87f",
   "metadata": {},
   "outputs": [
    {
     "data": {
      "text/plain": [
       "True"
      ]
     },
     "execution_count": 21,
     "metadata": {},
     "output_type": "execute_result"
    }
   ],
   "source": [
    "False or True"
   ]
  },
  {
   "cell_type": "code",
   "execution_count": 22,
   "id": "c1a38905",
   "metadata": {},
   "outputs": [
    {
     "data": {
      "text/plain": [
       "False"
      ]
     },
     "execution_count": 22,
     "metadata": {},
     "output_type": "execute_result"
    }
   ],
   "source": [
    "False or False"
   ]
  },
  {
   "cell_type": "code",
   "execution_count": 23,
   "id": "321bcf2f",
   "metadata": {},
   "outputs": [
    {
     "data": {
      "text/plain": [
       "True"
      ]
     },
     "execution_count": 23,
     "metadata": {},
     "output_type": "execute_result"
    }
   ],
   "source": [
    "str = 'HelloWorld'\n",
    "str1 = \"Myworld\"\n",
    "\n",
    "str.isalnum() or str1.isalpha()"
   ]
  },
  {
   "cell_type": "code",
   "execution_count": 24,
   "id": "ecfa006e",
   "metadata": {},
   "outputs": [
    {
     "data": {
      "text/plain": [
       "True"
      ]
     },
     "execution_count": 24,
     "metadata": {},
     "output_type": "execute_result"
    }
   ],
   "source": [
    "str.isalnum()"
   ]
  },
  {
   "cell_type": "code",
   "execution_count": 25,
   "id": "f751e92f",
   "metadata": {},
   "outputs": [
    {
     "data": {
      "text/plain": [
       "True"
      ]
     },
     "execution_count": 25,
     "metadata": {},
     "output_type": "execute_result"
    }
   ],
   "source": [
    "str1.isalpha()"
   ]
  },
  {
   "cell_type": "markdown",
   "id": "4c5d4cb0",
   "metadata": {},
   "source": [
    "## List\n",
    "- List is a data structure in python - A collection of elemets, Items \n",
    "- List is Mutable or changable\n",
    "- enclosed in []"
   ]
  },
  {
   "cell_type": "code",
   "execution_count": 26,
   "id": "ce9b0479",
   "metadata": {},
   "outputs": [],
   "source": [
    "lst=[]"
   ]
  },
  {
   "cell_type": "code",
   "execution_count": 27,
   "id": "9e29b4e7",
   "metadata": {},
   "outputs": [
    {
     "data": {
      "text/plain": [
       "list"
      ]
     },
     "execution_count": 27,
     "metadata": {},
     "output_type": "execute_result"
    }
   ],
   "source": [
    "type(lst)"
   ]
  },
  {
   "cell_type": "code",
   "execution_count": 28,
   "id": "cb10c24d",
   "metadata": {},
   "outputs": [],
   "source": [
    "lst = [1, 'kam', 'Naazo']"
   ]
  },
  {
   "cell_type": "code",
   "execution_count": 29,
   "id": "c565e842",
   "metadata": {},
   "outputs": [
    {
     "data": {
      "text/plain": [
       "list"
      ]
     },
     "execution_count": 29,
     "metadata": {},
     "output_type": "execute_result"
    }
   ],
   "source": [
    "type(lst)"
   ]
  },
  {
   "cell_type": "code",
   "execution_count": 30,
   "id": "9bc03b28",
   "metadata": {},
   "outputs": [],
   "source": [
    "lst.append('Amyra')"
   ]
  },
  {
   "cell_type": "code",
   "execution_count": 31,
   "id": "2a070183",
   "metadata": {},
   "outputs": [
    {
     "data": {
      "text/plain": [
       "[1, 'kam', 'Naazo', 'Amyra']"
      ]
     },
     "execution_count": 31,
     "metadata": {},
     "output_type": "execute_result"
    }
   ],
   "source": [
    "lst"
   ]
  },
  {
   "cell_type": "code",
   "execution_count": 32,
   "id": "de15df39",
   "metadata": {},
   "outputs": [],
   "source": [
    "lst1 = lst.copy()"
   ]
  },
  {
   "cell_type": "code",
   "execution_count": 33,
   "id": "d3d7e8f7",
   "metadata": {},
   "outputs": [
    {
     "data": {
      "text/plain": [
       "[1, 'kam', 'Naazo', 'Amyra']"
      ]
     },
     "execution_count": 33,
     "metadata": {},
     "output_type": "execute_result"
    }
   ],
   "source": [
    "lst1"
   ]
  },
  {
   "cell_type": "code",
   "execution_count": 34,
   "id": "b40fe38d",
   "metadata": {},
   "outputs": [],
   "source": [
    "lst1.extend(lst)"
   ]
  },
  {
   "cell_type": "code",
   "execution_count": 35,
   "id": "eec7b43c",
   "metadata": {},
   "outputs": [
    {
     "data": {
      "text/plain": [
       "[1, 'kam', 'Naazo', 'Amyra', 1, 'kam', 'Naazo', 'Amyra']"
      ]
     },
     "execution_count": 35,
     "metadata": {},
     "output_type": "execute_result"
    }
   ],
   "source": [
    "lst1"
   ]
  },
  {
   "cell_type": "code",
   "execution_count": 36,
   "id": "f0c91a64",
   "metadata": {},
   "outputs": [],
   "source": [
    "lst1.reverse()"
   ]
  },
  {
   "cell_type": "code",
   "execution_count": 37,
   "id": "f34994ce",
   "metadata": {},
   "outputs": [
    {
     "data": {
      "text/plain": [
       "['Amyra', 'Naazo', 'kam', 1, 'Amyra', 'Naazo', 'kam', 1]"
      ]
     },
     "execution_count": 37,
     "metadata": {},
     "output_type": "execute_result"
    }
   ],
   "source": [
    "lst1"
   ]
  },
  {
   "cell_type": "code",
   "execution_count": 38,
   "id": "d379f67e",
   "metadata": {},
   "outputs": [],
   "source": [
    "lst=['Kamran']\n",
    "lst.reverse()"
   ]
  },
  {
   "cell_type": "code",
   "execution_count": 39,
   "id": "57b4e8a2",
   "metadata": {},
   "outputs": [
    {
     "data": {
      "text/plain": [
       "['Kamran']"
      ]
     },
     "execution_count": 39,
     "metadata": {},
     "output_type": "execute_result"
    }
   ],
   "source": [
    "lst"
   ]
  },
  {
   "cell_type": "code",
   "execution_count": 40,
   "id": "6f466f74",
   "metadata": {},
   "outputs": [],
   "source": [
    "str=\"Kamran\"[::-1]"
   ]
  },
  {
   "cell_type": "code",
   "execution_count": 41,
   "id": "32bdf40b",
   "metadata": {},
   "outputs": [
    {
     "data": {
      "text/plain": [
       "'narmaK'"
      ]
     },
     "execution_count": 41,
     "metadata": {},
     "output_type": "execute_result"
    }
   ],
   "source": [
    "str"
   ]
  },
  {
   "cell_type": "code",
   "execution_count": 42,
   "id": "f167daec",
   "metadata": {},
   "outputs": [
    {
     "data": {
      "text/plain": [
       "6"
      ]
     },
     "execution_count": 42,
     "metadata": {},
     "output_type": "execute_result"
    }
   ],
   "source": [
    "len(str)"
   ]
  },
  {
   "cell_type": "code",
   "execution_count": 43,
   "id": "54916fdd",
   "metadata": {},
   "outputs": [
    {
     "data": {
      "text/plain": [
       "1"
      ]
     },
     "execution_count": 43,
     "metadata": {},
     "output_type": "execute_result"
    }
   ],
   "source": [
    "len(lst)"
   ]
  },
  {
   "cell_type": "code",
   "execution_count": 44,
   "id": "d8e3e367",
   "metadata": {},
   "outputs": [
    {
     "data": {
      "text/plain": [
       "2"
      ]
     },
     "execution_count": 44,
     "metadata": {},
     "output_type": "execute_result"
    }
   ],
   "source": [
    "lst1.index('kam')"
   ]
  },
  {
   "cell_type": "code",
   "execution_count": 45,
   "id": "cbb52a75",
   "metadata": {},
   "outputs": [],
   "source": [
    "lst2 = [\"Naazo\",\"Amyra\",\"Mohammed\",\"Kamran\",\"Mtech\",\"Masters\",\"Phd\"]"
   ]
  },
  {
   "cell_type": "code",
   "execution_count": 46,
   "id": "11186e9a",
   "metadata": {},
   "outputs": [
    {
     "data": {
      "text/plain": [
       "['Naazo', 'Amyra', 'Mohammed', 'Kamran', 'Mtech', 'Masters', 'Phd']"
      ]
     },
     "execution_count": 46,
     "metadata": {},
     "output_type": "execute_result"
    }
   ],
   "source": [
    "lst2[:]"
   ]
  },
  {
   "cell_type": "code",
   "execution_count": 47,
   "id": "055d10b4",
   "metadata": {},
   "outputs": [
    {
     "data": {
      "text/plain": [
       "['Mohammed', 'Kamran', 'Mtech', 'Masters', 'Phd']"
      ]
     },
     "execution_count": 47,
     "metadata": {},
     "output_type": "execute_result"
    }
   ],
   "source": [
    "lst2[2:]"
   ]
  },
  {
   "cell_type": "code",
   "execution_count": 48,
   "id": "70e0c045",
   "metadata": {},
   "outputs": [
    {
     "data": {
      "text/plain": [
       "['Naazo', 'Amyra', 'Mohammed', 'Kamran', 'Mtech']"
      ]
     },
     "execution_count": 48,
     "metadata": {},
     "output_type": "execute_result"
    }
   ],
   "source": [
    "lst2[:5]"
   ]
  },
  {
   "cell_type": "code",
   "execution_count": 49,
   "id": "63629af7",
   "metadata": {},
   "outputs": [],
   "source": [
    "lst2[3] = \"Machine Learning\""
   ]
  },
  {
   "cell_type": "code",
   "execution_count": 50,
   "id": "8219d7d4",
   "metadata": {},
   "outputs": [
    {
     "data": {
      "text/plain": [
       "['Naazo', 'Amyra', 'Mohammed', 'Machine Learning', 'Mtech', 'Masters', 'Phd']"
      ]
     },
     "execution_count": 50,
     "metadata": {},
     "output_type": "execute_result"
    }
   ],
   "source": [
    "lst2"
   ]
  },
  {
   "cell_type": "code",
   "execution_count": 51,
   "id": "cc45fc83",
   "metadata": {},
   "outputs": [],
   "source": [
    "lst2.insert(5,\"Deep Learning\")"
   ]
  },
  {
   "cell_type": "code",
   "execution_count": 52,
   "id": "81cd4698",
   "metadata": {},
   "outputs": [
    {
     "data": {
      "text/plain": [
       "['Naazo',\n",
       " 'Amyra',\n",
       " 'Mohammed',\n",
       " 'Machine Learning',\n",
       " 'Mtech',\n",
       " 'Deep Learning',\n",
       " 'Masters',\n",
       " 'Phd']"
      ]
     },
     "execution_count": 52,
     "metadata": {},
     "output_type": "execute_result"
    }
   ],
   "source": [
    "lst2"
   ]
  },
  {
   "cell_type": "code",
   "execution_count": null,
   "id": "26ff67e1",
   "metadata": {},
   "outputs": [],
   "source": []
  }
 ],
 "metadata": {
  "kernelspec": {
   "display_name": "Python 3",
   "language": "python",
   "name": "python3"
  },
  "language_info": {
   "codemirror_mode": {
    "name": "ipython",
    "version": 3
   },
   "file_extension": ".py",
   "mimetype": "text/x-python",
   "name": "python",
   "nbconvert_exporter": "python",
   "pygments_lexer": "ipython3",
   "version": "3.8.8"
  }
 },
 "nbformat": 4,
 "nbformat_minor": 5
}
