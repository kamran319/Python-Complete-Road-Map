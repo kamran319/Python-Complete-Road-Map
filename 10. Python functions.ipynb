{
 "cells": [
  {
   "cell_type": "markdown",
   "id": "adb0f186",
   "metadata": {},
   "source": [
    "# Functions:\n",
    "    Sequence of operation "
   ]
  },
  {
   "cell_type": "code",
   "execution_count": 1,
   "id": "7daef92b",
   "metadata": {},
   "outputs": [
    {
     "name": "stdout",
     "output_type": "stream",
     "text": [
      "Num is Odd\n"
     ]
    }
   ],
   "source": [
    "num = 23\n",
    "\n",
    "if num%2==0:\n",
    "    print(\"Num is even\")\n",
    "    \n",
    "else:\n",
    "    print(\"Num is Odd\")"
   ]
  },
  {
   "cell_type": "code",
   "execution_count": 2,
   "id": "f467d0a2",
   "metadata": {},
   "outputs": [
    {
     "name": "stdout",
     "output_type": "stream",
     "text": [
      "22\n",
      "Num is even\n"
     ]
    }
   ],
   "source": [
    "def evn_odd(num):\n",
    "    if num%2==0:\n",
    "        print(\"Num is even\")\n",
    "    \n",
    "    else:\n",
    "        print(\"Num is Odd\")\n",
    "\n",
    "num = int(input())\n",
    "evn_odd(num)"
   ]
  },
  {
   "cell_type": "code",
   "execution_count": 3,
   "id": "0959ab0e",
   "metadata": {},
   "outputs": [
    {
     "name": "stdout",
     "output_type": "stream",
     "text": [
      "Num is even\n"
     ]
    }
   ],
   "source": [
    "evn_odd(22)"
   ]
  },
  {
   "cell_type": "code",
   "execution_count": 4,
   "id": "e5f3116b",
   "metadata": {},
   "outputs": [],
   "source": [
    "# Print and return function\n",
    "\n",
    "def hello_world():\n",
    "    print(\"Hello Welcome\")"
   ]
  },
  {
   "cell_type": "code",
   "execution_count": 5,
   "id": "1419263d",
   "metadata": {},
   "outputs": [
    {
     "name": "stdout",
     "output_type": "stream",
     "text": [
      "Hello Welcome\n"
     ]
    }
   ],
   "source": [
    "val = hello_world()"
   ]
  },
  {
   "cell_type": "code",
   "execution_count": 6,
   "id": "e3e654a8",
   "metadata": {},
   "outputs": [],
   "source": [
    "val"
   ]
  },
  {
   "cell_type": "code",
   "execution_count": 7,
   "id": "54a402b9",
   "metadata": {},
   "outputs": [],
   "source": [
    "def hello_world():\n",
    "    return(\"Hi Kamran\")"
   ]
  },
  {
   "cell_type": "code",
   "execution_count": 8,
   "id": "1481dd2a",
   "metadata": {},
   "outputs": [],
   "source": [
    "k = hello_world()"
   ]
  },
  {
   "cell_type": "code",
   "execution_count": 9,
   "id": "5da9f81b",
   "metadata": {},
   "outputs": [
    {
     "data": {
      "text/plain": [
       "'Hi Kamran'"
      ]
     },
     "execution_count": 9,
     "metadata": {},
     "output_type": "execute_result"
    }
   ],
   "source": [
    "k"
   ]
  },
  {
   "cell_type": "code",
   "execution_count": 10,
   "id": "b52d903b",
   "metadata": {},
   "outputs": [],
   "source": [
    "def add_num(num1,num2):\n",
    "    return(num1+num2)"
   ]
  },
  {
   "cell_type": "code",
   "execution_count": 11,
   "id": "f76cb3ca",
   "metadata": {},
   "outputs": [],
   "source": [
    "Add = add_num(22,24)"
   ]
  },
  {
   "cell_type": "code",
   "execution_count": 12,
   "id": "80c6faf5",
   "metadata": {},
   "outputs": [
    {
     "data": {
      "text/plain": [
       "46"
      ]
     },
     "execution_count": 12,
     "metadata": {},
     "output_type": "execute_result"
    }
   ],
   "source": [
    "Add"
   ]
  },
  {
   "cell_type": "code",
   "execution_count": 13,
   "id": "9f1a629f",
   "metadata": {},
   "outputs": [],
   "source": [
    "def sub(num1,num2):\n",
    "    print(num1-num2)"
   ]
  },
  {
   "cell_type": "code",
   "execution_count": 14,
   "id": "8a241a80",
   "metadata": {},
   "outputs": [
    {
     "name": "stdout",
     "output_type": "stream",
     "text": [
      "4\n"
     ]
    }
   ],
   "source": [
    "sub = sub(28,24)"
   ]
  },
  {
   "cell_type": "code",
   "execution_count": 15,
   "id": "4f071b79",
   "metadata": {},
   "outputs": [],
   "source": [
    "# Positional Argument\n",
    "# Keyword Argument\n",
    "def Hello(Name,Age =29):\n",
    "    print(\"My name is {} and Age is {}\".format(Name,Age))"
   ]
  },
  {
   "cell_type": "code",
   "execution_count": 16,
   "id": "93738245",
   "metadata": {},
   "outputs": [
    {
     "name": "stdout",
     "output_type": "stream",
     "text": [
      "My name is Kamran and Age is 29\n"
     ]
    }
   ],
   "source": [
    "Hello('Kamran')"
   ]
  },
  {
   "cell_type": "code",
   "execution_count": 17,
   "id": "65a9710a",
   "metadata": {},
   "outputs": [],
   "source": [
    "def Hello(*args,**kwargs):\n",
    "    print(args)\n",
    "    print(kwargs)"
   ]
  },
  {
   "cell_type": "code",
   "execution_count": 18,
   "id": "645b8096",
   "metadata": {},
   "outputs": [
    {
     "name": "stdout",
     "output_type": "stream",
     "text": [
      "('Kamran', 'Naazo')\n",
      "{'age': 29, 'DOB': 1991}\n"
     ]
    }
   ],
   "source": [
    "Hello('Kamran','Naazo', age = 29, DOB=1991 )"
   ]
  },
  {
   "cell_type": "code",
   "execution_count": 19,
   "id": "29284959",
   "metadata": {},
   "outputs": [],
   "source": [
    "lst=['Kamran','Naazo']\n",
    "dict_arg = {'age':29, 'DOB':1991}"
   ]
  },
  {
   "cell_type": "code",
   "execution_count": 20,
   "id": "c6186aa8",
   "metadata": {},
   "outputs": [
    {
     "name": "stdout",
     "output_type": "stream",
     "text": [
      "(['Kamran', 'Naazo'], {'age': 29, 'DOB': 1991})\n",
      "{}\n"
     ]
    }
   ],
   "source": [
    "Hello(lst,dict_arg)"
   ]
  },
  {
   "cell_type": "code",
   "execution_count": 21,
   "id": "ef7db965",
   "metadata": {},
   "outputs": [
    {
     "name": "stdout",
     "output_type": "stream",
     "text": [
      "('Kamran', 'Naazo')\n",
      "{'age': 29, 'DOB': 1991}\n"
     ]
    }
   ],
   "source": [
    "Hello(*lst,**dict_arg)"
   ]
  },
  {
   "cell_type": "code",
   "execution_count": 22,
   "id": "42cc57ac",
   "metadata": {},
   "outputs": [
    {
     "data": {
      "text/plain": [
       "(12, 16)"
      ]
     },
     "execution_count": 22,
     "metadata": {},
     "output_type": "execute_result"
    }
   ],
   "source": [
    "lst = [1,2,3,4,5,6,7]\n",
    "\n",
    "def Evn_odd(lst):\n",
    "    even_sum = 0\n",
    "    odd_sum = 0\n",
    "    for i in lst:   \n",
    "        if i%2==0:\n",
    "            even_sum = even_sum+i\n",
    "            \n",
    "        else:\n",
    "            odd_sum = odd_sum+i\n",
    "    return even_sum,odd_sum\n",
    "    \n",
    "Evn_odd(lst)"
   ]
  },
  {
   "cell_type": "code",
   "execution_count": null,
   "id": "41a0be8b",
   "metadata": {},
   "outputs": [],
   "source": []
  }
 ],
 "metadata": {
  "kernelspec": {
   "display_name": "Python 3",
   "language": "python",
   "name": "python3"
  },
  "language_info": {
   "codemirror_mode": {
    "name": "ipython",
    "version": 3
   },
   "file_extension": ".py",
   "mimetype": "text/x-python",
   "name": "python",
   "nbconvert_exporter": "python",
   "pygments_lexer": "ipython3",
   "version": "3.8.8"
  }
 },
 "nbformat": 4,
 "nbformat_minor": 5
}
