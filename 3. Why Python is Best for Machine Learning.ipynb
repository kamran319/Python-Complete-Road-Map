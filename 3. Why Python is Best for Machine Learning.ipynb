{
 "cells": [
  {
   "cell_type": "markdown",
   "id": "296cac3d",
   "metadata": {},
   "source": [
    "# Python for Machine Learning\n",
    "- ___Python is easy to use___\n",
    "- ___Python has wide range of frame works and libraries such as___\n",
    "- Numpy - Used to create multi dimensional arrays\n",
    "- Pandas - Used to read different kind of data sources with the help of DataFrame and Series\n",
    "- Matplotlib and seaborn - Used for Data Visulaization with the help os statistical analysis\n",
    "- Scikit Learn- where all ML algorithms avaliable \n",
    "- ___Python is easy to understand___\n",
    "- ___Python is also used to develop web based application, web scrapping___\n",
    "- ___Python has community and corporate support___"
   ]
  },
  {
   "cell_type": "code",
   "execution_count": null,
   "id": "fc786f04",
   "metadata": {},
   "outputs": [],
   "source": []
  }
 ],
 "metadata": {
  "kernelspec": {
   "display_name": "Python 3",
   "language": "python",
   "name": "python3"
  },
  "language_info": {
   "codemirror_mode": {
    "name": "ipython",
    "version": 3
   },
   "file_extension": ".py",
   "mimetype": "text/x-python",
   "name": "python",
   "nbconvert_exporter": "python",
   "pygments_lexer": "ipython3",
   "version": "3.8.8"
  }
 },
 "nbformat": 4,
 "nbformat_minor": 5
}
